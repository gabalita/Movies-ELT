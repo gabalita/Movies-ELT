{
 "cells": [
  {
   "cell_type": "code",
   "execution_count": 5,
   "id": "a4f3c79d",
   "metadata": {},
   "outputs": [],
   "source": [
    "import json\n",
    "import pandas as pd\n",
    "import numpy as np"
   ]
  },
  {
   "cell_type": "code",
   "execution_count": 6,
   "id": "a4faa2f4",
   "metadata": {},
   "outputs": [],
   "source": [
    "file_dir = '/Users/gabriellachen/Desktop/Analysis_Projects/Movies-ELT'"
   ]
  },
  {
   "cell_type": "code",
   "execution_count": 7,
   "id": "59c1546f",
   "metadata": {},
   "outputs": [],
   "source": [
    "# It's easier to load the raw JSON as a list of dictionaries before converting it to a DataFrame.\n",
    "with open(f'{file_dir}/wikipedia-movies.json') as file:\n",
    "    \n",
    "    wiki_movies_raw = json.load(file)"
   ]
  },
  {
   "cell_type": "code",
   "execution_count": 11,
   "id": "32bb586c",
   "metadata": {},
   "outputs": [],
   "source": [
    "file_dir2 = '/Users/gabriellachen/Desktop/Analysis_Projects'\n",
    "kaggle_metadata = pd.read_csv(f'{file_dir2}/movies_metadata.csv', low_memory = False)\n",
    "ratings = pd.read_csv(f'{file_dir2}/ratings.csv')"
   ]
  },
  {
   "cell_type": "code",
   "execution_count": 12,
   "id": "1491d9fc",
   "metadata": {},
   "outputs": [],
   "source": [
    "# kaggle_metadata.sample(5)\n",
    "# df.columns.to_list()"
   ]
  },
  {
   "cell_type": "code",
   "execution_count": 13,
   "id": "238479f8",
   "metadata": {},
   "outputs": [],
   "source": [
    "# Use list comprehension to remove the bad data points before you export to a DataFrame.\n",
    "wiki_movies = [movie for movie in wiki_movies_raw if ('Directed by' in movie or 'Director' in movie) \n",
    "               and 'imdb_link' in movie and 'No. of episodes' not in movie]\n",
    "len(wiki_movies)\n",
    "wiki_movies_df = pd.DataFrame(wiki_movies)\n",
    " # We've cut the number of columsn from 193 to 78 columns. "
   ]
  },
  {
   "cell_type": "code",
   "execution_count": 18,
   "id": "ddd44b32",
   "metadata": {},
   "outputs": [],
   "source": [
    "def clean_movie(movie):\n",
    "    movie_dict = dict(movie) # Create a local, nondestructive copy\n",
    "    alt_titles = {}\n",
    "    alt_columns = ['Also known as','Arabic','Cantonese','Chinese','French',\n",
    "                'Hangul','Hebrew','Hepburn','Japanese','Literally',\n",
    "                'Mandarin','McCune–Reischauer','Original title','Polish',\n",
    "                'Revised Romanization','Romanized','Russian',\n",
    "                'Simplified','Traditional','Yiddish']\n",
    "    \n",
    "    for key in alt_columns:\n",
    "        \n",
    "        if key in movie_dict:\n",
    "            \n",
    "            alt_titles[key] = movie_dict[key]\n",
    "            movie_dict.pop(key)\n",
    "            \n",
    "        if len(alt_titles) > 0:\n",
    "            movie_dict['alt_titles'] = alt_titles\n",
    "        \n",
    "    return movie_dict"
   ]
  },
  {
   "cell_type": "code",
   "execution_count": 19,
   "id": "9fa516f0",
   "metadata": {},
   "outputs": [],
   "source": [
    "clean_movies = [clean_movie(movie) for movie in wiki_movies]"
   ]
  },
  {
   "cell_type": "code",
   "execution_count": 20,
   "id": "05eff643",
   "metadata": {},
   "outputs": [
    {
     "data": {
      "text/plain": [
       "['Adaptation by',\n",
       " 'Animation by',\n",
       " 'Audio format',\n",
       " 'Based on',\n",
       " 'Box office',\n",
       " 'Budget',\n",
       " 'Cinematography',\n",
       " 'Color process',\n",
       " 'Composer(s)',\n",
       " 'Country',\n",
       " 'Country of origin',\n",
       " 'Created by',\n",
       " 'Directed by',\n",
       " 'Director',\n",
       " 'Distributed by',\n",
       " 'Distributor',\n",
       " 'Edited by',\n",
       " 'Editor(s)',\n",
       " 'Executive producer(s)',\n",
       " 'Followed by',\n",
       " 'Genre',\n",
       " 'Label',\n",
       " 'Language',\n",
       " 'Length',\n",
       " 'Music by',\n",
       " 'Narrated by',\n",
       " 'Original language(s)',\n",
       " 'Original network',\n",
       " 'Original release',\n",
       " 'Picture format',\n",
       " 'Preceded by',\n",
       " 'Produced by',\n",
       " 'Producer',\n",
       " 'Producer(s)',\n",
       " 'Production company(s)',\n",
       " 'Production location(s)',\n",
       " 'Productioncompanies ',\n",
       " 'Productioncompany ',\n",
       " 'Recorded',\n",
       " 'Release date',\n",
       " 'Released',\n",
       " 'Running time',\n",
       " 'Screen story by',\n",
       " 'Screenplay by',\n",
       " 'Starring',\n",
       " 'Story by',\n",
       " 'Suggested by',\n",
       " 'Theme music composer',\n",
       " 'Venue',\n",
       " 'Voices of',\n",
       " 'Written by',\n",
       " 'alt_titles',\n",
       " 'imdb_link',\n",
       " 'title',\n",
       " 'url',\n",
       " 'year']"
      ]
     },
     "execution_count": 20,
     "metadata": {},
     "output_type": "execute_result"
    }
   ],
   "source": [
    "wiki_movies_df = pd.DataFrame(clean_movies)\n",
    "sorted(wiki_movies_df.columns.tolist())"
   ]
  },
  {
   "cell_type": "code",
   "execution_count": null,
   "id": "0c46f087",
   "metadata": {},
   "outputs": [],
   "source": []
  },
  {
   "cell_type": "code",
   "execution_count": 16,
   "id": "5087ea1c",
   "metadata": {},
   "outputs": [],
   "source": [
    "# First 5 records\n",
    "# wiki_movies_raw[:5]\n",
    "# sorted(wiki_movies_df.columns.tolist())\n",
    "# Last 5 records\n",
    "# wiki_movies_raw[-5:]\n",
    "# Some records in the middle\n",
    "# wiki_movies_raw[3600:3605]"
   ]
  },
  {
   "cell_type": "code",
   "execution_count": null,
   "id": "c68c81e6",
   "metadata": {},
   "outputs": [],
   "source": []
  }
 ],
 "metadata": {
  "kernelspec": {
   "display_name": "Python 3",
   "language": "python",
   "name": "python3"
  },
  "language_info": {
   "codemirror_mode": {
    "name": "ipython",
    "version": 3
   },
   "file_extension": ".py",
   "mimetype": "text/x-python",
   "name": "python",
   "nbconvert_exporter": "python",
   "pygments_lexer": "ipython3",
   "version": "3.8.8"
  }
 },
 "nbformat": 4,
 "nbformat_minor": 5
}
